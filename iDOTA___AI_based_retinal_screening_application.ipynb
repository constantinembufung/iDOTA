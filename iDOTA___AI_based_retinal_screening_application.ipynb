{
  "nbformat": 4,
  "nbformat_minor": 0,
  "metadata": {
    "colab": {
      "name": "iDOTA_-_AI-based_retinalscreening_application.ipynb",
      "provenance": [],
      "mount_file_id": "1lmETmiY57NEH8JmOybuesXhLP2UtRrDd",
      "authorship_tag": "ABX9TyOK60RcqLNIzSROa101nBEH",
      "include_colab_link": true
    },
    "kernelspec": {
      "name": "python3",
      "display_name": "Python 3"
    }
  },
  "cells": [
    {
      "cell_type": "markdown",
      "metadata": {
        "id": "view-in-github",
        "colab_type": "text"
      },
      "source": [
        "<a href=\"https://colab.research.google.com/github/constantinembufung/iDOTA/blob/main/iDOTA___AI_based_retinal_screening_application.ipynb\" target=\"_parent\"><img src=\"https://colab.research.google.com/assets/colab-badge.svg\" alt=\"Open In Colab\"/></a>"
      ]
    },
    {
      "cell_type": "markdown",
      "metadata": {
        "id": "66qwb9ORCFtn"
      },
      "source": [
        "**IDOTA **\n",
        "iDOTA is AI-based retinal screening application that is developed at the Douala School of AI Research Lab(DSAIRLab) to easily diagnose and prevent blindness in Cameroon.\n",
        "In this notebook we are going to train our model\n"
      ]
    },
    {
      "cell_type": "code",
      "metadata": {
        "id": "Z-WxIRljCEG7"
      },
      "source": [
        "import tensorflow as tf"
      ],
      "execution_count": 1,
      "outputs": []
    }
  ]
}